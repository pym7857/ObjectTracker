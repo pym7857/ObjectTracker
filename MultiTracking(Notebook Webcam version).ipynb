{
 "cells": [
  {
   "cell_type": "markdown",
   "metadata": {},
   "source": [
    "```\n",
    "goturn.prototxt : <https://drive.google.com/open?id=1yJAABnQVrizsfK4AiLWObAJ629UsrXI2>\n",
    "\n",
    "goturn.caffemodel : <https://drive.google.com/open?id=1rMdm1jSf2xv7Haoeap5IASAcRSOnmzIS>\n",
    "\n",
    "```"
   ]
  },
  {
   "cell_type": "code",
   "execution_count": 2,
   "metadata": {},
   "outputs": [],
   "source": [
    "import cv2\n",
    "import numpy as np\n",
    "import sys\n",
    "from random import randint\n",
    "import os"
   ]
  },
  {
   "cell_type": "code",
   "execution_count": 3,
   "metadata": {},
   "outputs": [
    {
     "name": "stdout",
     "output_type": "stream",
     "text": [
      "Failed to read video\n"
     ]
    }
   ],
   "source": [
    "path1 = 'data/goturn.caffemodel'\n",
    "path2 = 'data/goturn.prototxt'\n",
    "\n",
    "if not (path1 and path2):\n",
    "    errorMsg = '''\n",
    "    Could not find GOTURN model in current directory.\n",
    "    Please ensure goturn.caffemodel and goturn.prototxt are in the current directory\n",
    "    '''\n",
    " \n",
    "    print(errorMsg)\n",
    "    sys.exit()\n",
    "    \n",
    "'''\n",
    "if len(sys.argv) != 2:\n",
    "    print('Input video name is missing')\n",
    "    exit() \n",
    "'''\n",
    "\n",
    "tracker = cv2.TrackerGOTURN_create()     # MultiTracker 객체 생성 \n",
    "video = cv2.VideoCapture(0)\n",
    "\n",
    "# 첫번째 프레임 읽기\n",
    "ok, frame=video.read()\n",
    "if not ok:\n",
    "    print('Failed to read video')\n",
    "    exit()    # 커널 종료 \n",
    "    \n",
    "bbox = (276, 23, 86, 320)\n",
    "# bbox = cv2.selectROI(frame, False)   # 웹캠에서 BoundingBox 설정 \n",
    "ok = tracker.init(frame, bbox)  \n",
    "    \n",
    "    \n",
    "'''\n",
    "OPENCV_OBJECT_TRACKERS = {\n",
    "\"csrt\": cv2.TrackerCSRT_create,      # More accurate than KCF but slower. 낮은 프레임(fps25)에서 사용\n",
    "\"kcf\": cv2.TrackerKCF_create,        # Fast and accurate\n",
    "\"boosting\": cv2.TrackerBoosting_create,\n",
    "\"mil\": cv2.TrackerMIL_create,\n",
    "\"tld\": cv2.TrackerTLD_create,\n",
    "\"medianflow\": cv2.TrackerMedianFlow_create,\n",
    "\"mosse\": cv2.TrackerMOSSE_create     # Extremely fast but not as accurate as either KCF or CSRT\n",
    "}\n",
    "'''\n",
    "\n",
    "\n",
    "while True:\n",
    "    # Read a new frame\n",
    "    ok, frame = video.read()\n",
    "    if not ok:\n",
    "        break\n",
    " \n",
    "    # Start timer\n",
    "    timer = cv2.getTickCount()\n",
    " \n",
    "    # Update tracker\n",
    "    ok, bbox = tracker.update(frame)\n",
    " \n",
    "    # Calculate Frames per second (FPS)\n",
    "    fps = cv2.getTickFrequency() / (cv2.getTickCount() - timer);\n",
    " \n",
    "    # Draw bounding box\n",
    "    if ok:\n",
    "        # Tracking success\n",
    "        p1 = (int(bbox[0]), int(bbox[1]))\n",
    "        p2 = (int(bbox[0] + bbox[2]), int(bbox[1] + bbox[3]))\n",
    "        cv2.rectangle(frame, p1, p2, (255, 0, 0), 2, 1)\n",
    "    else:\n",
    "        # Tracking failure\n",
    "        cv2.putText(frame, \"Tracking failure detected\", (100, 80), cv2.FONT_HERSHEY_SIMPLEX, 0.75, (0, 0, 255), 2)\n",
    " \n",
    "    # Display tracker type on frame\n",
    "    cv2.putText(frame, \"GOTURN Tracker\", (100, 20), cv2.FONT_HERSHEY_SIMPLEX, 0.75, (50, 170, 50), 2);\n",
    " \n",
    "    # Display FPS on frame\n",
    "    cv2.putText(frame, \"FPS : \" + str(int(fps)), (100, 50), cv2.FONT_HERSHEY_SIMPLEX, 0.75, (50, 170, 50), 2);\n",
    " \n",
    "    # Display result\n",
    "    cv2.imshow(\"Tracking\", frame)\n",
    " \n",
    "    \n",
    "    if cv2.waitKey(1) & 0xFF == ord('q'):\n",
    "        break\n"
   ]
  }
 ],
 "metadata": {
  "kernelspec": {
   "display_name": "Python 3",
   "language": "python",
   "name": "python3"
  },
  "language_info": {
   "codemirror_mode": {
    "name": "ipython",
    "version": 3
   },
   "file_extension": ".py",
   "mimetype": "text/x-python",
   "name": "python",
   "nbconvert_exporter": "python",
   "pygments_lexer": "ipython3",
   "version": "3.7.3"
  }
 },
 "nbformat": 4,
 "nbformat_minor": 2
}
