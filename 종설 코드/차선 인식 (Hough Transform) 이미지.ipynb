{
 "cells": [
  {
   "cell_type": "code",
   "execution_count": 7,
   "metadata": {},
   "outputs": [
    {
     "data": {
      "text/plain": [
       "113"
      ]
     },
     "execution_count": 7,
     "metadata": {},
     "output_type": "execute_result"
    }
   ],
   "source": [
    "# -*- coding: cp949 -*-\n",
    "# -*- coding: utf-8 -*- # 한글 주석쓰려면 이거 해야함\n",
    "import cv2 # opencv 사용\n",
    "import numpy as np\n",
    "\n",
    "# ===================================================================================\n",
    "def grayscale(img): # 흑백이미지로 변환\n",
    "    return cv2.cvtColor(img, cv2.COLOR_RGB2GRAY)\n",
    "\n",
    "def canny(img, low_threshold, high_threshold): # Canny 알고리즘\n",
    "    return cv2.Canny(img, low_threshold, high_threshold)\n",
    "\n",
    "def gaussian_blur(img, kernel_size): # 가우시안 필터\n",
    "    return cv2.GaussianBlur(img, (kernel_size, kernel_size), 0)\n",
    "\n",
    "def region_of_interest(img, vertices, color3=(255,255,255), color1=255): # ROI 셋팅\n",
    "\n",
    "    mask = np.zeros_like(img) # mask = img와 같은 크기의 빈 이미지\n",
    "    \n",
    "    if len(img.shape) > 2: # Color 이미지(3채널)라면 :\n",
    "        color = color3\n",
    "    else: # 흑백 이미지(1채널)라면 :\n",
    "        color = color1\n",
    "        \n",
    "    # vertices에 정한 점들로 이뤄진 다각형부분(ROI 설정부분)을 color로 채움 \n",
    "    cv2.fillPoly(mask, vertices, color)\n",
    "    \n",
    "    # 이미지와 color로 채워진 ROI를 합침\n",
    "    ROI_image = cv2.bitwise_and(img, mask)\n",
    "    return ROI_image\n",
    "\n",
    "def draw_lines(img, lines, color=[0, 0, 255], thickness=2): # 선 그리기\n",
    "    for line in lines:\n",
    "        for x1,y1,x2,y2 in line:\n",
    "            cv2.line(img, (x1, y1), (x2, y2), color, thickness)\n",
    "\n",
    "def hough_lines(img, rho, theta, threshold, min_line_len, max_line_gap): # 허프 변환\n",
    "    lines = cv2.HoughLinesP(img, rho, theta, threshold, np.array([]), minLineLength=min_line_len, maxLineGap=max_line_gap)\n",
    "    line_img = np.zeros((img.shape[0], img.shape[1], 3), dtype=np.uint8)\n",
    "    draw_lines(line_img, lines)\n",
    "\n",
    "    return line_img\n",
    "\n",
    "def weighted_img(img, initial_img, α=1, β=1., λ=0.): # 두 이미지 operlap 하기\n",
    "    return cv2.addWeighted(initial_img, α, img, β, λ)\n",
    "\n",
    "# ===================================================================================\n",
    "\n",
    "image = cv2.imread('solidWhiteCurve.jpg') # 이미지 읽기\n",
    "height, width = image.shape[:2] # 이미지 높이, 너비\n",
    "#print('height, width = ', height, \",\" , width)\n",
    "\n",
    "gray_img = grayscale(image) # 흑백이미지로 변환\n",
    "    \n",
    "blur_img = gaussian_blur(gray_img, 3) # Blur 효과\n",
    "        \n",
    "canny_img = canny(blur_img, 70, 210) # Canny edge 알고리즘\n",
    "\n",
    "# 사다리꼴 정점 설정 \n",
    "vertices = np.array([[(50,height),(width/2-45, height/2+60), (width/2+45, height/2+60), (width-50,height)]], dtype=np.int32)\n",
    "#print('vertices = ', vertices)\n",
    "\n",
    "# 관심영역 \n",
    "ROI_img = region_of_interest(canny_img, vertices) # ROI 설정\n",
    "#cv2.imshow('result',ROI_img)\n",
    "\n",
    "# 허프 변환 적용 \n",
    "hough_img = hough_lines(ROI_img, 1, 1 * np.pi/180, 30, 10, 20) # 허프 변환\n",
    "\n",
    "result = weighted_img(hough_img, image) # 원본 이미지에 검출된 선 overlap\n",
    "cv2.imshow('result',result) # 결과 이미지 출력\n",
    "cv2.waitKey(0) "
   ]
  }
 ],
 "metadata": {
  "kernelspec": {
   "display_name": "Python 3",
   "language": "python",
   "name": "python3"
  },
  "language_info": {
   "codemirror_mode": {
    "name": "ipython",
    "version": 3
   },
   "file_extension": ".py",
   "mimetype": "text/x-python",
   "name": "python",
   "nbconvert_exporter": "python",
   "pygments_lexer": "ipython3",
   "version": "3.6.10"
  }
 },
 "nbformat": 4,
 "nbformat_minor": 4
}
